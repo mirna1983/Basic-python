{
 "cells": [
  {
   "cell_type": "markdown",
   "id": "41a5445c-3470-4b8f-a2e3-80ad898f6e0c",
   "metadata": {},
   "source": [
    "## 1.1 of the assignment one\n",
    "\n",
    "\"This line will be display\""
   ]
  },
  {
   "cell_type": "code",
   "execution_count": 13,
   "id": "af5de412-ca96-46e1-b393-1d35be1f8950",
   "metadata": {},
   "outputs": [
    {
     "name": "stdout",
     "output_type": "stream",
     "text": [
      "Hello,world!\n"
     ]
    }
   ],
   "source": [
    "print(\"Hello\"+\",\"+\"world!\")"
   ]
  },
  {
   "cell_type": "code",
   "execution_count": 14,
   "id": "1f40ee66-42e3-4ef8-88cd-061356e7a790",
   "metadata": {},
   "outputs": [
    {
     "data": {
      "text/plain": [
       "8"
      ]
     },
     "execution_count": 14,
     "metadata": {},
     "output_type": "execute_result"
    }
   ],
   "source": [
    "5+3"
   ]
  },
  {
   "cell_type": "markdown",
   "id": "5ef16930-75b1-4559-9867-b5e8f2e42bff",
   "metadata": {},
   "source": [
    "## 1.2 of the assignment one"
   ]
  },
  {
   "cell_type": "code",
   "execution_count": 15,
   "id": "d04fd8ce-5c22-47b4-a8c9-3e3fcbdaccea",
   "metadata": {},
   "outputs": [
    {
     "name": "stdout",
     "output_type": "stream",
     "text": [
      "Help on built-in function print in module builtins:\n",
      "\n",
      "print(...)\n",
      "    print(value, ..., sep=' ', end='\\n', file=sys.stdout, flush=False)\n",
      "    \n",
      "    Prints the values to a stream, or to sys.stdout by default.\n",
      "    Optional keyword arguments:\n",
      "    file:  a file-like object (stream); defaults to the current sys.stdout.\n",
      "    sep:   string inserted between values, default a space.\n",
      "    end:   string appended after the last value, default a newline.\n",
      "    flush: whether to forcibly flush the stream.\n",
      "\n"
     ]
    }
   ],
   "source": [
    "help(print)"
   ]
  },
  {
   "cell_type": "code",
   "execution_count": 16,
   "id": "22d4b333-4e9d-4203-8fd7-3c523f320bf7",
   "metadata": {},
   "outputs": [
    {
     "name": "stdout",
     "output_type": "stream",
     "text": [
      "welcome.\n"
     ]
    }
   ],
   "source": [
    "print(\"welcome.\")"
   ]
  },
  {
   "cell_type": "markdown",
   "id": "021f6fe2-28cd-4301-8a17-c7ff31188787",
   "metadata": {},
   "source": [
    "## 1.3 of the assignment one"
   ]
  },
  {
   "cell_type": "code",
   "execution_count": 18,
   "id": "d6a2bf33-33b1-43c3-aa37-08b252f1b3db",
   "metadata": {},
   "outputs": [],
   "source": [
    "import pandas as pd\n",
    "import numpy as np\n",
    "import matplotlib.pyplot as plt\n",
    "import seaborn as sns"
   ]
  },
  {
   "cell_type": "markdown",
   "id": "81564274-52c2-4371-b2b7-008f6801bcfa",
   "metadata": {},
   "source": [
    "# 2.1. Write a function summation that evaluates the following summation for n ≥ 1:\n",
    "$$ \\sum_{i=1}^{n} i^3+3i^2 $$"
   ]
  },
  {
   "cell_type": "code",
   "execution_count": 19,
   "id": "22af6748-aa88-4872-b8a6-541eeff4d53c",
   "metadata": {},
   "outputs": [],
   "source": [
    "def sum(n):\n",
    "    y=0\n",
    "    for i in range(1,n+1):\n",
    "        yVal=i**3+3*(i**2)\n",
    "        y=y+yVal\n",
    "    print('Summation of',n,'=',y,'.')\n",
    "        "
   ]
  },
  {
   "cell_type": "code",
   "execution_count": 20,
   "id": "f02cc505-bd58-44a6-9103-971551b5b865",
   "metadata": {},
   "outputs": [
    {
     "name": "stdout",
     "output_type": "stream",
     "text": [
      "Summation of 6 = 714 .\n",
      "None\n",
      "Summation of 27 = 163674 .\n",
      "None\n",
      "Summation of 99 = 25487550 .\n",
      "None\n"
     ]
    }
   ],
   "source": [
    "print(sum(6))\n",
    "print(sum(27))\n",
    "print(sum(99))\n"
   ]
  },
  {
   "cell_type": "markdown",
   "id": "12397c74-58f7-4af5-a9b6-5f357ab6801e",
   "metadata": {},
   "source": [
    "# 2.2. Write a function list_sum that computes the square of each value in list_1, the cube of each value in list_2, then returns a list containing the element-wise sum of these results. Assume that list_1 and list_2 have the same number of elements."
   ]
  },
  {
   "cell_type": "code",
   "execution_count": 21,
   "id": "c7853bf8-4871-41db-a7e5-e1637d7d4700",
   "metadata": {},
   "outputs": [],
   "source": [
    "def list_sum(list_1,list_2):\n",
    "\n",
    "    #im just squaring list one and cube the vlaue in list two \n",
    "    square=[number ** 2 for number in list_1]\n",
    "    cube=[number **3 for number in list_2]\n",
    "    resultList = list()\n",
    "    \n",
    "    for i in range(0,len(list_1)):   \n",
    "        # Appending the sum of the two list to the new list\n",
    "        resultList.append(square[i] + cube[i])\n",
    "    # returning the resultant list  \n",
    "    return resultList\n",
    "    \n"
   ]
  },
  {
   "cell_type": "code",
   "execution_count": 22,
   "id": "56bd528e-b769-47c3-8ff8-ca332c8535ce",
   "metadata": {},
   "outputs": [
    {
     "data": {
      "text/plain": [
       "[150, 252, 392]"
      ]
     },
     "execution_count": 22,
     "metadata": {},
     "output_type": "execute_result"
    }
   ],
   "source": [
    "list_1=[5,6,7]\n",
    "list_2=[5,6,7]\n",
    "list_sum(list_1,list_2)"
   ]
  },
  {
   "cell_type": "markdown",
   "id": "5e20b63e-9f0f-4c80-b7f5-70a40aec8b80",
   "metadata": {},
   "source": [
    "# 3.1. Create array arr1 containing the values 1, 2, and 3 (in that order) and arr2 containing the values 4,5, and 6."
   ]
  },
  {
   "cell_type": "code",
   "execution_count": 23,
   "id": "bbce99d7-cbeb-46f6-a75e-2a76589708f1",
   "metadata": {},
   "outputs": [],
   "source": [
    "arr1=[1,2,3]\n",
    "arr2=[4,5,6]"
   ]
  },
  {
   "cell_type": "markdown",
   "id": "af4ab1e8-fba6-4ad1-9807-40b4a2936e7d",
   "metadata": {},
   "source": [
    "# 3.2. Add arr1 and arr2 element-wise.\n"
   ]
  },
  {
   "cell_type": "code",
   "execution_count": 24,
   "id": "123005bc-71e6-4476-b1cb-36db7dfb70dd",
   "metadata": {},
   "outputs": [
    {
     "data": {
      "text/plain": [
       "array([5, 7, 9])"
      ]
     },
     "execution_count": 24,
     "metadata": {},
     "output_type": "execute_result"
    }
   ],
   "source": [
    "np.add(arr1,arr2)"
   ]
  },
  {
   "cell_type": "markdown",
   "id": "7569d513-72a9-4c34-ab6f-09cdd4209aa5",
   "metadata": {},
   "source": [
    "# 3.3. Use NumPy to recreate your answer to Question 2.2. This time call the method as array_sum. The input parameters will both be lists, so you will need to convert the lists into arrays before performing your operations."
   ]
  },
  {
   "cell_type": "code",
   "execution_count": 30,
   "id": "139ec3db-fc17-40f8-9d11-918f6cc7b2fc",
   "metadata": {},
   "outputs": [],
   "source": [
    "def array_sum(list_1,list_2):\n",
    "    list1=np.array(list_1)\n",
    "    list2=np.array(list_2)\n",
    "    \n",
    "    square=[number **2 for number in list1]\n",
    "    cude=[number**3 for number in list2]\n",
    "    ans=list()\n",
    "    \n",
    "    for j in range(0,len(list1)):\n",
    "        ans.append(square[i]+cube[i])\n",
    "    return ans"
   ]
  },
  {
   "cell_type": "code",
   "execution_count": 31,
   "id": "6b41dca7-7047-4d04-afaa-ef100b5cec5c",
   "metadata": {},
   "outputs": [
    {
     "data": {
      "text/plain": [
       "[150, 252, 392]"
      ]
     },
     "execution_count": 31,
     "metadata": {},
     "output_type": "execute_result"
    }
   ],
   "source": [
    "list_1=[5,6,7]\n",
    "list_2=[5,6,7]\n",
    "list_sum(list_1,list_2)"
   ]
  },
  {
   "cell_type": "markdown",
   "id": "8304442f-74aa-46fa-903c-1defab2fa5a4",
   "metadata": {},
   "source": [
    "# 3.4. Show the time difference between list_sum and array_sum methods 2.2. and 3.3. with the following inputs using %%time command. "
   ]
  },
  {
   "cell_type": "code",
   "execution_count": 135,
   "id": "759fb5ed-e01f-4fb5-85bc-cd5148dcf635",
   "metadata": {},
   "outputs": [
    {
     "name": "stdout",
     "output_type": "stream",
     "text": [
      "CPU times: user 10 µs, sys: 35 µs, total: 45 µs\n",
      "Wall time: 53.9 µs\n"
     ]
    }
   ],
   "source": [
    "%%time\n",
    "def array_sum(list_1,list_2):\n",
    "    list1=np.array(list_1)\n",
    "    list2=np.array(list_2)\n",
    "    \n",
    "    square=[number **2 for number in list1]\n",
    "    cude=[number**3 for number in list2]\n",
    "    ans=list()\n",
    "    \n",
    "    for j in range(0,len(list1)):\n",
    "        ans.append(square[i]+cube[i])\n",
    "    return ans"
   ]
  },
  {
   "cell_type": "code",
   "execution_count": 136,
   "id": "ac190210-554c-48f2-8adf-83c621174202",
   "metadata": {},
   "outputs": [
    {
     "name": "stdout",
     "output_type": "stream",
     "text": [
      "CPU times: user 10 µs, sys: 32 µs, total: 42 µs\n",
      "Wall time: 45.8 µs\n"
     ]
    }
   ],
   "source": [
    "%%time\n",
    "def list_sum(list_1,list_2):\n",
    "\n",
    "    #im just squaring list one and cube the vlaue in list two \n",
    "    square=[number ** 2 for number in list_1]\n",
    "    cube=[number **3 for number in list_2]\n",
    "    resultList = list()\n",
    "    \n",
    "    for i in range(0,len(list_1)):   \n",
    "        # Appending the sum of the two list to the new list\n",
    "        resultList.append(square[i] + cube[i])\n",
    "    # returning the resultant list  \n",
    "    return resultList\n",
    "    \n"
   ]
  },
  {
   "cell_type": "code",
   "execution_count": 137,
   "id": "33062c8c-1987-4be2-8f2a-56b38847f970",
   "metadata": {},
   "outputs": [],
   "source": [
    "sample_list=list(range(100000))\n",
    "sample_array =np.arange(100000)"
   ]
  },
  {
   "cell_type": "code",
   "execution_count": 139,
   "id": "b12a8d2a-7286-46af-9c39-ece959193204",
   "metadata": {},
   "outputs": [
    {
     "data": {
      "text/plain": [
       "array([-5., -4., -3., -2., -1.,  0.,  1.,  2.,  3.,  4.,  5.])"
      ]
     },
     "execution_count": 139,
     "metadata": {},
     "output_type": "execute_result"
    }
   ],
   "source": [
    "np.arange(-5,6,1.0)\n",
    "#array([-5,-4,-3,-2,-1,0,1,2,3,4,5])\n",
    "np.linspace(-5,5,11)\n",
    "#array([-5,-4,-3,-2,-1,0,1,2,3,4,5])"
   ]
  },
  {
   "cell_type": "code",
   "execution_count": null,
   "id": "fe666524-45c1-4ebe-9112-c61ca173b3a1",
   "metadata": {},
   "outputs": [],
   "source": []
  },
  {
   "cell_type": "code",
   "execution_count": 140,
   "id": "645fb7ab-49f4-449e-be1a-b0dde8fe1213",
   "metadata": {},
   "outputs": [
    {
     "data": {
      "text/plain": [
       "array([-5., -4., -3., -2., -1.,  0.,  1.,  2.,  3.,  4.,  5.])"
      ]
     },
     "execution_count": 140,
     "metadata": {},
     "output_type": "execute_result"
    }
   ],
   "source": [
    "np.linspace(-5,5,11)\n",
    "#array([-5,-4,-3,-2,-1,0,1,2,3,4,5])"
   ]
  },
  {
   "cell_type": "markdown",
   "id": "9f79acfd-bbf7-468e-ac0e-30bd1ae4ce4d",
   "metadata": {},
   "source": [
    "# 4.1 Visualize the function f(t) = 3 sin(2πt). Set the x limit of all figures to [0, π] and the y limit to [−10, 10]. Plot the sine function using plt.plot with 30 red plus signs. 0, π/2 , π], and that your axes are labeled as well. You can use the matplotlib documentation for reference. "
   ]
  },
  {
   "cell_type": "code",
   "execution_count": null,
   "id": "7c20f503-0156-4ec6-a1f1-6dbfed8324ea",
   "metadata": {},
   "outputs": [],
   "source": []
  },
  {
   "cell_type": "code",
   "execution_count": 133,
   "id": "e53c0e57-71c2-4f40-b959-110a9efb9c52",
   "metadata": {},
   "outputs": [
    {
     "data": {
      "image/png": "[encoded data removed]",
      "text/plain": [
       "<Figure size 432x288 with 1 Axes>"
      ]
     },
     "metadata": {},
     "output_type": "display_data"
    }
   ],
   "source": [
    "xVals=np.linspace(0,np.pi,31)\n",
    "a=2*np.pi*xVals\n",
    "yVals=3*np.sin(a)\n",
    "lab=['0', 'π/2' , 'π']\n",
    "x=np.linspace(0,np.pi,3)\n",
    "\n",
    "plt.title(\"f(t)=3sin(2(pi)t)\")\n",
    "plt.ylim(-10,10)\n",
    "plt.xlim(0,np.pi,31)\n",
    "plt.scatter(xVals,yVals, color= \"red\",marker= \"+\")\n",
    "plt.xticks(x,lab)\n",
    "plt.xlabel('t')\n",
    "\n",
    "plt.ylabel(r'$f(t)$')\n",
    "plt.show()\n"
   ]
  },
  {
   "cell_type": "code",
   "execution_count": 108,
   "id": "6c4fde72-1d22-4de0-980d-ac874100f33b",
   "metadata": {},
   "outputs": [],
   "source": [
    "\n"
   ]
  },
  {
   "cell_type": "code",
   "execution_count": null,
   "id": "f168c4d5-0f9e-4468-ba51-4468a02a5aea",
   "metadata": {},
   "outputs": [],
   "source": []
  }
 ],
 "metadata": {
  "kernelspec": {
   "display_name": "Python 3",
   "language": "python",
   "name": "python3"
  },
  "language_info": {
   "codemirror_mode": {
    "name": "ipython",
    "version": 3
   },
   "file_extension": ".py",
   "mimetype": "text/x-python",
   "name": "python",
   "nbconvert_exporter": "python",
   "pygments_lexer": "ipython3",
   "version": "3.8.8"
  }
 },
 "nbformat": 4,
 "nbformat_minor": 5
}
